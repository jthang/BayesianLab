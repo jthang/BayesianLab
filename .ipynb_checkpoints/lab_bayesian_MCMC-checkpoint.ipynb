{
 "metadata": {
  "name": "",
  "signature": "sha256:a6b8cd5cc4fe1ca85189aa563cd8a119aa78e9211a4494084106694232b6e21f"
 },
 "nbformat": 3,
 "nbformat_minor": 0,
 "worksheets": [
  {
   "cells": [
    {
     "cell_type": "markdown",
     "metadata": {},
     "source": [
      "#Bayesianism, with MCMC"
     ]
    },
    {
     "cell_type": "code",
     "collapsed": false,
     "input": [
      "%matplotlib inline\n",
      "import pandas as pd\n",
      "import numpy as np\n",
      "import matplotlib.pyplot as plt\n",
      "from matplotlib import rcParams\n",
      "\n",
      "pd.options.display.max_columns = 10 \n",
      "pd.options.display.width = 134\n",
      "pd.options.display.max_rows = 20\n",
      "\n",
      "rcParams['figure.figsize'] = (10, 6)\n",
      "plt.style.use('bmh')\n",
      "colors = [\"#348ABD\", \"#A60628\", \"#7A68A6\", \"#467821\", \"#CF4457\", \"#188487\", \"#E24A33\"]"
     ],
     "language": "python",
     "metadata": {},
     "outputs": [],
     "prompt_number": 2
    },
    {
     "cell_type": "code",
     "collapsed": false,
     "input": [],
     "language": "python",
     "metadata": {},
     "outputs": []
    }
   ],
   "metadata": {}
  }
 ]
}