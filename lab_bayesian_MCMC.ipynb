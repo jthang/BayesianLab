{
 "metadata": {
  "name": "",
  "signature": "sha256:09efb16cb66a4a665b038f6c04a946fd383542b9380f881b8bcca18a5b622131"
 },
 "nbformat": 3,
 "nbformat_minor": 0,
 "worksheets": [
  {
   "cells": [
    {
     "cell_type": "markdown",
     "metadata": {},
     "source": [
      "#Bayesianism, with MCMC"
     ]
    },
    {
     "cell_type": "code",
     "collapsed": false,
     "input": [],
     "language": "python",
     "metadata": {},
     "outputs": []
    }
   ],
   "metadata": {}
  }
 ]
}