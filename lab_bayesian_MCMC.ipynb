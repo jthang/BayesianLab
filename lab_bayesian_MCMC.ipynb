{
 "metadata": {
  "name": "",
  "signature": "sha256:fd8e25183ce717db9ca85347806f2917f27cce16dcb744dfcce4712649c220fb"
 },
 "nbformat": 3,
 "nbformat_minor": 0,
 "worksheets": [
  {
   "cells": [
    {
     "cell_type": "markdown",
     "metadata": {},
     "source": [
      "#Bayesianism, with MCMC"
     ]
    },
    {
     "cell_type": "markdown",
     "metadata": {},
     "source": [
      "> The process of Bayesian data analysis can be idealized by dividing it into the following three steps:\n",
      "1. Setting up a full probability model\u2014a joint probability distribution for all observable and unobservable quantities in a problem. The model should be consistent with knowledge about the underlying scientific problem and the data collection process.\n",
      "2. Conditioning on observed data: calculating and interpreting the appropriate posterior distribution\u2014the conditional probability distribution of the unobserved quantities of ultimate interest, given the observed data.\n",
      "3. Evaluating the fit of the model and the implications of the resulting posterior distribution: how well does the model fit the data, are the substantive conclusions reasonable, and how sensitive are the results to the modeling assumptions in step 1? In response, one can alter or expand the model and repeat the three steps."
     ]
    },
    {
     "cell_type": "code",
     "collapsed": false,
     "input": [
      "%matplotlib inline\n",
      "import pandas as pd\n",
      "import numpy as np\n",
      "import matplotlib.pyplot as plt\n",
      "from matplotlib import rcParams\n",
      "\n",
      "pd.options.display.max_columns = 10 \n",
      "pd.options.display.width = 134\n",
      "pd.options.display.max_rows = 20\n",
      "\n",
      "rcParams['figure.figsize'] = (10, 6)\n",
      "plt.style.use('bmh')\n",
      "colors = [\"#348ABD\", \"#A60628\", \"#7A68A6\", \"#467821\", \"#CF4457\", \"#188487\", \"#E24A33\"]"
     ],
     "language": "python",
     "metadata": {},
     "outputs": [],
     "prompt_number": 5
    },
    {
     "cell_type": "code",
     "collapsed": false,
     "input": [
      "fizzbuzz = []\n",
      "\n",
      "start = int(input(\"Start Value:\"))\n",
      "end = int(input(\"End Value:\"))\n",
      "\n",
      "def int_to_fizzbuzz(i):\n",
      "    entry = ''\n",
      "    if i%3 == 0:\n",
      "        entry += \"fizz\"\n",
      "    if i%5 == 0:\n",
      "        entry += \"buzz\"\n",
      "    if i%3 != 0 and i%5 != 0:\n",
      "        entry = i\n",
      "    return entry\n",
      "\n",
      "fizzbuzz = [int_to_fizzbuzz(i) for i in range(start, end+1)]\n",
      "\n",
      "def fizzbuzz(start, end):\n",
      "    def int_to_fizzbuzz(i):\n",
      "        entry = ''\n",
      "        if i%3 == 0:\n",
      "            entry += \"fizz\"\n",
      "        if i%5 == 0:\n",
      "            entry += \"buzz\"\n",
      "        if i%3 != 0 and i%5 != 0:\n",
      "            entry = i\n",
      "        return entry\n",
      "\n",
      "    return [int_to_fizzbuzz(i) for i in range(start, end+1)]\n",
      "\n",
      "for i in fizzbuzz(start, end):\n",
      "    print(i)"
     ],
     "language": "python",
     "metadata": {},
     "outputs": [
      {
       "name": "stdout",
       "output_type": "stream",
       "stream": "stdout",
       "text": [
        "Start Value:3\n"
       ]
      },
      {
       "name": "stdout",
       "output_type": "stream",
       "stream": "stdout",
       "text": [
        "End Value:4\n"
       ]
      },
      {
       "output_type": "stream",
       "stream": "stdout",
       "text": [
        "fizz\n",
        "4\n"
       ]
      }
     ],
     "prompt_number": 11
    }
   ],
   "metadata": {}
  }
 ]
}